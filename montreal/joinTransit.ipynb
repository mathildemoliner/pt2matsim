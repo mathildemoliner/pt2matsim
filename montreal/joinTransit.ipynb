{
 "cells": [
  {
   "cell_type": "code",
   "execution_count": 23,
   "metadata": {},
   "outputs": [],
   "source": [
    "import xml.etree.ElementTree as ET \n",
    "from xml.etree.cElementTree import ElementTree\n",
    "from collections import defaultdict\n",
    "import gzip\n"
   ]
  },
  {
   "cell_type": "markdown",
   "metadata": {},
   "source": [
    "Liste des fichiers transit issus de GTFS"
   ]
  },
  {
   "cell_type": "code",
   "execution_count": 24,
   "metadata": {},
   "outputs": [],
   "source": [
    "companies = {\"EXO_chambly\":\"chamblyrichelieucarignan-20220104\",\n",
    "            \"EXO_trains\":\"exo_trains-20220223\",\n",
    "            \"EXO_hautsaintlaurent\":\"hautsaintlaurent-20211213\",\n",
    "            \"EXO_lapresquile\":\"lapresquile-20220106\",\n",
    "            \"EXO_lassomption\":\"lassomption-20220119\",\n",
    "            \"EXO_laurentides\":\"laurentides-20220406\",\n",
    "            \"STL\":\"laval-20220326\",\n",
    "            \"EXO_lerichelain\":\"lerichelain-20220104\",\n",
    "            \"RTL\":\"longueuil-20180820\",\n",
    "            \"STM\":\"montreal-20220225\",\n",
    "            \"EXO_rousillon\":\"rousillon-20211208\",\n",
    "            \"EXO_saintejulie\":\"saintejulie-20220112\",\n",
    "            \"EXO_sorelvarennes\":\"sorelvarennes-20220321\",\n",
    "            \"EXO_sudouest\":\"sudouest-20211213\",\n",
    "            \"EXO_terrebonnemascouche\":\"terrebonnemascouche-20220107\",\n",
    "            \"EXO_valleedurichelieu\":\"valleedurichelieu-20211215\"\n",
    "            }"
   ]
  },
  {
   "cell_type": "markdown",
   "metadata": {},
   "source": [
    "Regrouper tous les fichier transit dans le même"
   ]
  },
  {
   "cell_type": "code",
   "execution_count": 57,
   "metadata": {},
   "outputs": [],
   "source": [
    "vehicleTypeList=[]\n",
    "vehiclesTree = ET.Element('vehicleDefinitions')\n",
    "scheduleTree = ET.Element('transitSchedule')\n",
    "transitStops = ET.SubElement(scheduleTree, 'transitStops')\n",
    "\n",
    "for company in companies :\n",
    "    vehiclesFile = ET.parse(gzip.open('output_unmapped/'+companies.get(company)+'/renamed_transit_vehicles.xml.gz','r'))\n",
    "    vehicles = vehiclesFile.getroot()\n",
    "    for vehicleType in vehicles.iter('{http://www.matsim.org/files/dtd}vehicleType'):\n",
    "        if vehicleType.get(\"id\") not in vehicleTypeList :\n",
    "            vehiclesTree.append(vehicleType)\n",
    "            vehicleTypeList.append(vehicleType.get(\"id\"))\n",
    "    for vehicle in vehicles.iter('{http://www.matsim.org/files/dtd}vehicle'):\n",
    "        vehiclesTree.append(vehicle)\n",
    "    scheduleFile = ET.parse(gzip.open('output_unmapped/'+companies.get(company)+'/renamed_transit_schedule.xml.gz','r'))\n",
    "    schedule = scheduleFile.getroot()\n",
    "    for stop in schedule.iter('stopFacility'):\n",
    "        transitStops.append(stop)\n",
    "    for transitLine in schedule.iter('transitLine'):\n",
    "        scheduleTree.append(transitLine)\n",
    "    \n",
    "    "
   ]
  },
  {
   "cell_type": "markdown",
   "metadata": {},
   "source": [
    "Supprimer les StopFacilities en doublon"
   ]
  },
  {
   "cell_type": "code",
   "execution_count": 58,
   "metadata": {},
   "outputs": [],
   "source": [
    "from iteration_utilities import duplicates\n",
    "from iteration_utilities import unique_everseen\n",
    "\n",
    "stops = []\n",
    "for stop in transitStops.iter('stopFacility'):\n",
    "    stops.append(stop.get(\"id\"))\n",
    "\n",
    "stopsdoublons = list(unique_everseen(duplicates(stops)))"
   ]
  },
  {
   "cell_type": "code",
   "execution_count": 59,
   "metadata": {},
   "outputs": [
    {
     "name": "stdout",
     "output_type": "stream",
     "text": [
      "['74529', '74701', '75018', '77507', '77508', '77509', '79118', '71026', '71033', '71034', '71039', '71042', '71047', '71221', '71294', '71296', '71323', '71333', '71356', '76077', '76138', '76557', '77501', '77503', '77504', '77505', '77506', '77655', '77657', '78043', '78045', '78046', '78087', '78088', '78116', '78117', '78123', '78125', '78126', '78132', '78135', '78136', '78161', '78168', '78179', '78180', '78245', '78275', '78315', '78445', '78559', '78563', '78564', '78565', '78567', '78568', '78569', '78606', '78730', '78731', '78734', '78885', '78898', '79191', '82004', '82005', '82007', '82064', '82066', '82067', '82855', '82868', '84125', '84830', '84966', '84967', '85016', '85078', '85086', '85089', '85253', '85776', '70020', '71021', '71022', '71023', '71321', '71332']\n",
      "88\n"
     ]
    }
   ],
   "source": [
    "print(stopsdoublons)\n",
    "print(len(stopsdoublons))"
   ]
  },
  {
   "cell_type": "code",
   "execution_count": 61,
   "metadata": {},
   "outputs": [
    {
     "name": "stdout",
     "output_type": "stream",
     "text": [
      "0 74529\n",
      "1 74529\n",
      "0 74701\n",
      "0 75018\n",
      "0 77507\n",
      "1 77507\n",
      "0 77508\n",
      "1 77508\n",
      "0 77509\n",
      "1 77509\n",
      "0 79118\n",
      "1 79118\n",
      "0 71026\n",
      "0 71033\n",
      "0 71034\n",
      "0 71039\n",
      "0 71042\n",
      "0 71047\n",
      "0 71221\n",
      "0 71294\n",
      "0 71296\n",
      "0 71323\n",
      "0 71333\n",
      "0 71356\n",
      "0 76077\n",
      "0 76138\n",
      "0 76557\n",
      "0 77501\n",
      "0 77503\n",
      "0 77504\n",
      "0 77505\n",
      "0 77506\n",
      "0 77655\n",
      "0 77657\n",
      "0 78043\n",
      "0 78045\n",
      "0 78046\n",
      "0 78087\n",
      "0 78088\n",
      "0 78116\n",
      "0 78117\n",
      "0 78123\n",
      "0 78125\n",
      "0 78126\n",
      "0 78132\n",
      "0 78135\n",
      "0 78136\n",
      "0 78161\n",
      "0 78168\n",
      "0 78179\n",
      "0 78180\n",
      "0 78245\n",
      "0 78275\n",
      "0 78315\n",
      "0 78445\n",
      "0 78559\n",
      "0 78563\n",
      "0 78564\n",
      "0 78565\n",
      "0 78567\n",
      "0 78568\n",
      "0 78569\n",
      "0 78606\n",
      "0 78730\n",
      "0 78731\n",
      "0 78734\n",
      "0 78885\n",
      "0 78898\n",
      "0 79191\n",
      "0 82004\n",
      "0 82005\n",
      "0 82007\n",
      "0 82064\n",
      "0 82066\n",
      "0 82067\n",
      "0 82855\n",
      "0 82868\n",
      "0 84125\n",
      "0 84830\n",
      "0 84966\n",
      "0 84967\n",
      "0 85016\n",
      "0 85078\n",
      "0 85086\n",
      "0 85089\n",
      "0 85253\n",
      "0 85776\n",
      "0 70020\n",
      "0 71021\n",
      "0 71022\n",
      "0 71023\n",
      "0 71321\n",
      "0 71332\n"
     ]
    }
   ],
   "source": [
    "for stop in stopsdoublons:\n",
    "    teststops = transitStops.findall(\".//*[@id='\"+str(stop)+\"']\")\n",
    "    for i in range(len(teststops)-1):\n",
    "        transitStops.remove(teststops[i])"
   ]
  },
  {
   "cell_type": "code",
   "execution_count": 62,
   "metadata": {},
   "outputs": [
    {
     "name": "stdout",
     "output_type": "stream",
     "text": [
      "[]\n",
      "0\n"
     ]
    }
   ],
   "source": [
    "stopsAfter = []\n",
    "for stop in transitStops.iter('stopFacility'):\n",
    "    stopsAfter.append(stop.get(\"id\"))\n",
    "\n",
    "stopsdoublons = list(unique_everseen(duplicates(stopsAfter)))\n",
    "\n",
    "print(stopsdoublons)\n",
    "print(len(stopsdoublons))"
   ]
  },
  {
   "cell_type": "markdown",
   "metadata": {},
   "source": [
    "Écriture des fichiers"
   ]
  },
  {
   "cell_type": "code",
   "execution_count": 63,
   "metadata": {},
   "outputs": [],
   "source": [
    "schedulePath = 'output_unmapped/transit_schedule.xml.gz'\n",
    "f = gzip.open(schedulePath, 'wb')\n",
    "f.write('<?xml version=\"1.0\" encoding=\"UTF-8\"?><!DOCTYPE transitSchedule SYSTEM \"http://www.matsim.org/files/dtd/transitSchedule_v2.dtd\">'.encode('utf8'))\n",
    "ElementTree(scheduleTree).write(f) \n",
    "f.close()\n",
    "\n",
    "vehiclesPath = 'output_unmapped/transit_vehicles.xml.gz'\n",
    "g = gzip.open(vehiclesPath, 'wb')\n",
    "g.write('<?xml version=\"1.0\" encoding=\"UTF-8\"?>'.encode('utf8'))\n",
    "ElementTree(vehiclesTree).write(g) \n",
    "g.close()"
   ]
  }
 ],
 "metadata": {
  "interpreter": {
   "hash": "aee8b7b246df8f9039afb4144a1f6fd8d2ca17a180786b69acc140d282b71a49"
  },
  "kernelspec": {
   "display_name": "Python 3.9.7 64-bit",
   "language": "python",
   "name": "python3"
  },
  "language_info": {
   "codemirror_mode": {
    "name": "ipython",
    "version": 3
   },
   "file_extension": ".py",
   "mimetype": "text/x-python",
   "name": "python",
   "nbconvert_exporter": "python",
   "pygments_lexer": "ipython3",
   "version": "3.9.7"
  },
  "orig_nbformat": 4
 },
 "nbformat": 4,
 "nbformat_minor": 2
}

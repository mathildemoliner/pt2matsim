{
 "cells": [
  {
   "cell_type": "code",
   "execution_count": 1,
   "metadata": {},
   "outputs": [],
   "source": [
    "import xml.etree.ElementTree as ET \n",
    "from xml.etree.cElementTree import ElementTree\n",
    "from collections import defaultdict\n",
    "import gzip"
   ]
  },
  {
   "cell_type": "markdown",
   "metadata": {},
   "source": [
    "Liste des fichiers transit issus de GTFS"
   ]
  },
  {
   "cell_type": "code",
   "execution_count": 2,
   "metadata": {},
   "outputs": [],
   "source": [
    "companies = {\"EXO_chambly\":\"chamblyrichelieucarignan-20220104\",\n",
    "            \"EXO_trains\":\"exo_trains-20220223\",\n",
    "            \"EXO_hautsaintlaurent\":\"hautsaintlaurent-20211213\",\n",
    "            \"EXO_lapresquile\":\"lapresquile-20220106\",\n",
    "            \"EXO_lassomption\":\"lassomption-20220119\",\n",
    "            \"EXO_laurentides\":\"laurentides-20220406\",\n",
    "            \"STL\":\"laval-20220326\",\n",
    "            \"EXO_lerichelain\":\"lerichelain-20220104\",\n",
    "            \"RTL\":\"longueuil-20180820\",\n",
    "            \"STM\":\"montreal-20220225\",\n",
    "            \"EXO_rousillon\":\"rousillon-20211208\",\n",
    "            \"EXO_saintejulie\":\"saintejulie-20220112\",\n",
    "            \"EXO_sorelvarennes\":\"sorelvarennes-20220321\",\n",
    "            \"EXO_sudouest\":\"sudouest-20211213\",\n",
    "            \"EXO_terrebonnemascouche\":\"terrebonnemascouche-20220107\",\n",
    "            \"EXO_valleedurichelieu\":\"valleedurichelieu-20211215\"\n",
    "            }"
   ]
  },
  {
   "cell_type": "markdown",
   "metadata": {},
   "source": [
    "Renommer les véhicules et les transitLines en ajoutant la compagnie pour eviter les doublons d'identifiant"
   ]
  },
  {
   "cell_type": "code",
   "execution_count": null,
   "metadata": {},
   "outputs": [],
   "source": [
    "def rename(company):\n",
    "    scheduleFile = ET.parse('output_unmapped/'+companies.get(company)+'/transit_schedule.xml.gz')\n",
    "    schedule  = scheduleFile.getroot()\n",
    "    vehiclesFile = ET.parse('output_unmapped/'+companies.get(company)+'/transit_vehicles.xml.gz')\n",
    "    vehicles  = vehiclesFile.getroot()\n",
    "    # changer les véhicules dans le fichier transit_vehicles.xml\n",
    "    for vehicle in vehicles.iter('{http://www.matsim.org/files/dtd}vehicle'):\n",
    "        vehicle.set('id',vehicle.get('id')+'_'+company)\n",
    "    # changer les véhicules dans le fihcier transit_schedule.xml (tag='departure', attrib='vehicleRefId')\n",
    "    for departure in schedule.iter('departure'):\n",
    "        departure.set('vehicleRefId', departure.get('vehicleRefId')+'_'+company)\n",
    "    # changer le transitLine_id \n",
    "    for transitLine in schedule.iter('transitLine'):\n",
    "        transitLine.set('id',transitLine.get('id')+'_'+company)\n",
    "        transitLine.set('name',transitLine.get('name')+'_'+company)\n",
    "    # écrire les fichiers\n",
    "    schedulePath = 'output_unmapped/'+companies.get(company)+'/renamed_transit_schedule.xml.gz'\n",
    "    f = gzip.open(schedulePath, 'wb')\n",
    "    f.write('<?xml version=\"1.0\" encoding=\"UTF-8\"?><!DOCTYPE transitSchedule SYSTEM \"http://www.matsim.org/files/dtd/transitSchedule_v2.dtd\">'.encode('utf8'))\n",
    "    ElementTree(schedule).write(f) \n",
    "    f.close()\n",
    "    vehiclesPath = 'output_unmapped/'+companies.get(company)+'/renamed_transit_vehicles.xml.gz'\n",
    "    g = gzip.open(vehiclesPath, 'wb')\n",
    "    g.write('<?xml version=\"1.0\" encoding=\"UTF-8\"?>'.encode('utf8'))\n",
    "    ElementTree(vehicles).write(g) \n",
    "    g.close()\n",
    "\n",
    "    "
   ]
  },
  {
   "cell_type": "code",
   "execution_count": null,
   "metadata": {},
   "outputs": [
    {
     "name": "stdout",
     "output_type": "stream",
     "text": [
      "Done for EXO_chambly\n",
      "Done for EXO_trains\n",
      "Done for EXO_hautsaintlaurent\n",
      "Done for EXO_lapresquile\n",
      "Done for EXO_lassomption\n",
      "Done for EXO_laurentides\n",
      "Done for STL\n",
      "Done for EXO_lerichelain\n",
      "Done for RTL\n",
      "Done for STM\n",
      "Done for EXO_rousillon\n",
      "Done for EXO_saintejulie\n",
      "Done for EXO_sorelvarennes\n",
      "Done for EXO_sudouest\n",
      "Done for EXO_terrebonnemascouche\n",
      "Done for EXO_valleedurichelieu\n"
     ]
    }
   ],
   "source": [
    "for company in companies.keys():\n",
    "    rename(company)\n",
    "    print('Done for '+company)"
   ]
  }
 ],
 "metadata": {
  "interpreter": {
   "hash": "aee8b7b246df8f9039afb4144a1f6fd8d2ca17a180786b69acc140d282b71a49"
  },
  "kernelspec": {
   "display_name": "Python 3.9.7 64-bit",
   "language": "python",
   "name": "python3"
  },
  "language_info": {
   "codemirror_mode": {
    "name": "ipython",
    "version": 3
   },
   "file_extension": ".py",
   "mimetype": "text/x-python",
   "name": "python",
   "nbconvert_exporter": "python",
   "pygments_lexer": "ipython3",
   "version": "3.9.7"
  },
  "orig_nbformat": 4
 },
 "nbformat": 4,
 "nbformat_minor": 2
}
